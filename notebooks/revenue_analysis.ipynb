{
 "cells": [
  {
   "cell_type": "code",
   "execution_count": 1,
   "id": "181345f4-78dd-4196-9af1-7116b8b899e8",
   "metadata": {},
   "outputs": [],
   "source": [
    "%load_ext autoreload\n",
    "%autoreload 2"
   ]
  },
  {
   "cell_type": "code",
   "execution_count": 2,
   "id": "d5440dc2-bdba-4bc6-a4d4-96ac74bf1153",
   "metadata": {},
   "outputs": [
    {
     "ename": "SyntaxError",
     "evalue": "f-string: unmatched ']' (utils.py, line 179)",
     "output_type": "error",
     "traceback": [
      "Traceback \u001b[36m(most recent call last)\u001b[39m:\n",
      "  File \u001b[92m/usr/local/lib/python3.12/site-packages/IPython/core/interactiveshell.py:3672\u001b[39m in \u001b[95mrun_code\u001b[39m\n    exec(code_obj, self.user_global_ns, self.user_ns)\n",
      "\u001b[36m  \u001b[39m\u001b[36mCell\u001b[39m\u001b[36m \u001b[39m\u001b[32mIn[2]\u001b[39m\u001b[32m, line 11\u001b[39m\n\u001b[31m    \u001b[39m\u001b[31mfrom utils import *\u001b[39m\n",
      "  \u001b[36mFile \u001b[39m\u001b[32m~/work/e_commerce_traffic/notebooks/../src/utils.py:179\u001b[39m\n\u001b[31m    \u001b[39m\u001b[31mtmp[f\"price_{product]\"].shift(1)*(\u001b[39m\n                        ^\n\u001b[31mSyntaxError\u001b[39m\u001b[31m:\u001b[39m f-string: unmatched ']'\n"
     ]
    }
   ],
   "source": [
    "import pandas as pd\n",
    "import numpy as np\n",
    "import matplotlib.pyplot as plt\n",
    "import seaborn as sns\n",
    "from statsmodels.tsa.seasonal import STL, seasonal_decompose\n",
    "from sklearn.ensemble import IsolationForest\n",
    "from functools import reduce\n",
    "import sys\n",
    "\n",
    "sys.path.append(\"../src\")\n",
    "from utils import *"
   ]
  },
  {
   "cell_type": "code",
   "execution_count": null,
   "id": "abb86ff7-97fc-4622-a85c-7707989eebf4",
   "metadata": {},
   "outputs": [],
   "source": [
    "pd.set_option(\"display.max_columns\", None)"
   ]
  },
  {
   "cell_type": "markdown",
   "id": "cd01bc64-aa68-445e-bc36-ba9949cf777c",
   "metadata": {},
   "source": [
    "# 1). Exploratory data analysis"
   ]
  },
  {
   "cell_type": "code",
   "execution_count": null,
   "id": "9ef1ed79-c1cd-4b8f-b5b9-46bcf4f466d9",
   "metadata": {
    "scrolled": true
   },
   "outputs": [],
   "source": [
    "df = pd.read_csv(\"ecommerce_dataset.csv\", sep=\";\")\n",
    "df[\"datetime\"] = pd.to_datetime(df[\"Timestamp\"], unit=\"s\")\n",
    "df"
   ]
  },
  {
   "cell_type": "code",
   "execution_count": null,
   "id": "e6147690-ebe3-477c-bad2-1e145e1647e3",
   "metadata": {},
   "outputs": [],
   "source": [
    "for col in [\"Product category\", \"Environment\", \"Device type\", \"User location\",\n",
    "           \"Browser family\", \"Existing client\"]:\n",
    "    print(col)\n",
    "    print(df[col].value_counts(dropna=False))\n",
    "    print(\"\\n\")"
   ]
  },
  {
   "cell_type": "code",
   "execution_count": null,
   "id": "292bf044-a222-4a3e-9399-d81414fda70e",
   "metadata": {},
   "outputs": [],
   "source": [
    "# We change some categories\n",
    "df[\"Device UX\"]=df[\"Device type\"].apply(get_ux)\n",
    "df[\"Device OS\"]=df[\"Device type\"].apply(get_os)"
   ]
  },
  {
   "cell_type": "code",
   "execution_count": null,
   "id": "bcfe6adc-0e55-44c6-936d-911fbbdf127a",
   "metadata": {},
   "outputs": [],
   "source": [
    "print(df[df[\"Device UX\"] == \"Unknown\"][\"Environment\"].value_counts(dropna=False))\n",
    "print(\"\\n\")\n",
    "print(df[df[\"Device OS\"] == \"Unknown\"][\"Environment\"].value_counts(dropna=False))"
   ]
  },
  {
   "cell_type": "code",
   "execution_count": null,
   "id": "a23b2e45-c581-4e10-addb-5544e44c0269",
   "metadata": {},
   "outputs": [],
   "source": [
    "# All unknown device ux or os are androids app, ie Android OS and Smartphone/Tablet devices\n",
    "# We impute the unknown category\n",
    "df[\"Device UX\"] = df[\"Device UX\"].apply(lambda x: \"Smartphone/Tablet\" if x == \"Unknown\" else x)\n",
    "df[\"Device OS\"] = (\n",
    "    df[[\"Device OS\", \"Environment\"]].apply(lambda x: \"Android\" if x[0] == \"Unknown\" and x[1]==\"app_android\" else x[0],\n",
    "                                          axis=1)\n",
    ")"
   ]
  },
  {
   "cell_type": "code",
   "execution_count": null,
   "id": "ea6fa192-a403-4bd4-b787-a9c4098b4af2",
   "metadata": {
    "scrolled": true
   },
   "outputs": [],
   "source": [
    "df[df[\"User location\"]==\"Unknown\"]"
   ]
  },
  {
   "cell_type": "code",
   "execution_count": null,
   "id": "703b2ebf-a8ee-41a7-bf6d-fe5770c6155e",
   "metadata": {
    "scrolled": true
   },
   "outputs": [],
   "source": [
    "df[df[\"Browser family\"]==\"unknown\"]"
   ]
  },
  {
   "cell_type": "code",
   "execution_count": null,
   "id": "dfe13206-5ce7-48c5-9dde-8cd9e36dc989",
   "metadata": {},
   "outputs": [],
   "source": [
    "df[df[\"Environment\"]==\"web\"][\"Device UX\"].value_counts()"
   ]
  },
  {
   "cell_type": "code",
   "execution_count": null,
   "id": "d2f16ee3-06ca-454d-9343-92902c9232f3",
   "metadata": {},
   "outputs": [],
   "source": [
    "df[\"Environment\"] = (\n",
    "    df[[\"Environment\", \"Device UX\"]].apply(\n",
    "        lambda x: \"Mobile Web\" if x[0]==\"web\" and x[1]==\"Smartphone/Tablet\"\n",
    "        else \"Desktop Web\" if x[0]==\"web\" and x[1]==\"Desktop\"\n",
    "        else x[0],\n",
    "        axis=1\n",
    "    )\n",
    ")"
   ]
  },
  {
   "cell_type": "code",
   "execution_count": null,
   "id": "20fb6649-af95-400e-9d75-67f0145f3893",
   "metadata": {},
   "outputs": [],
   "source": [
    "df[\"Browser family\"].unique()"
   ]
  },
  {
   "cell_type": "code",
   "execution_count": null,
   "id": "29823321-5255-4259-949c-e6c2fe1bd6e6",
   "metadata": {
    "scrolled": true
   },
   "outputs": [],
   "source": [
    "df[\"Browser family\"] = (\n",
    "    df[\"Browser family\"].fillna(\"\").apply(simplify_browser)\n",
    ")"
   ]
  },
  {
   "cell_type": "markdown",
   "id": "fb8b8f34-7030-4b69-8a28-096894ab0d71",
   "metadata": {},
   "source": [
    "# 2). Granularity analysis"
   ]
  },
  {
   "cell_type": "markdown",
   "id": "5c0cfb95-7368-4fb2-9cdd-f8a9be711565",
   "metadata": {},
   "source": [
    "## 2). 1). Daily revenues"
   ]
  },
  {
   "cell_type": "code",
   "execution_count": null,
   "id": "6b1196ca-eaf7-42ea-9314-e2330cca154a",
   "metadata": {},
   "outputs": [],
   "source": [
    "df_revenues = (\n",
    "df[df[\"Event type\"]==\"Sales\"].copy(deep=True)\n",
    ").rename(columns={\"Product Price\":\"price\", \"Product quantity\":\"quantity\"})\n",
    "\n",
    "df_revenues[\"revenue\"] = (\n",
    "    df_revenues[\"price\"] * \n",
    "    df_revenues[\"quantity\"]\n",
    ")\n",
    "\n",
    "df_revenues[\"datetime\"] = df_revenues[\"datetime\"].dt.date \n",
    "\n",
    "full_date_range = pd.date_range(\n",
    "    start=df_revenues.datetime.min(),\n",
    "    end=df_revenues.datetime.max(),\n",
    "    freq=\"D\"\n",
    ")\n",
    "\n",
    "missing_dates = (\n",
    "    full_date_range.difference(df_revenues.datetime)\n",
    ")\n",
    "\n",
    "\n",
    "df_revenues.head()"
   ]
  },
  {
   "cell_type": "code",
   "execution_count": null,
   "id": "8253df5e-de90-423c-a1fe-61573c22572d",
   "metadata": {},
   "outputs": [],
   "source": [
    "df_revenues = df_revenues[[\"datetime\", \"revenue\"]]\n",
    "\n",
    "df_revenues = (\n",
    "    df_revenues.groupby([\"datetime\"],\n",
    "                       as_index=False).agg({\"revenue\":\"sum\"})\n",
    ")\n",
    "\n",
    "df_revenues.set_index(\"datetime\", inplace=True)\n",
    "\n",
    "for missing_date in missing_dates:\n",
    "    df_revenues.loc[missing_date.date(), \"revenue\"] = np.nan\n",
    "\n",
    "df_revenues.sort_index(inplace=True)\n",
    "\n",
    "df_revenues.head()"
   ]
  },
  {
   "cell_type": "markdown",
   "id": "e08b4b3c-9f83-48f8-ad6b-54a3da993231",
   "metadata": {},
   "source": [
    "## 2). 2). Weekly revenues"
   ]
  },
  {
   "cell_type": "code",
   "execution_count": null,
   "id": "41a6b6fe-88b1-4f1f-9ad9-d9c25c1ecee7",
   "metadata": {},
   "outputs": [],
   "source": [
    "df_revenues_weekly = df_revenues.copy(deep=True).reset_index()\n",
    "df_revenues_weekly[\"datetime\"] = pd.to_datetime(df_revenues_weekly[\"datetime\"])\n",
    "df_revenues_weekly.set_index(\"datetime\", inplace=True)\n",
    "df_revenues_weekly = df_revenues_weekly.resample(\"W-MON\", label=\"left\").agg({\n",
    "    \"revenue\":[\"sum\", \"size\"]\n",
    "})\n",
    "df_revenues_weekly = df_revenues_weekly.iloc[1:-1]\n",
    "df_revenues_weekly = df_revenues_weekly[[(\"revenue\", \"sum\")]]\n",
    "df_revenues_weekly.columns = [\"revenue\"]\n",
    "df_revenues_weekly.head()"
   ]
  },
  {
   "cell_type": "markdown",
   "id": "93384a33-139e-486f-83d6-25fe5e4a9628",
   "metadata": {},
   "source": [
    "## 2). 3). Monthly revenues"
   ]
  },
  {
   "cell_type": "code",
   "execution_count": null,
   "id": "dcb7f061-d631-4c36-9d0e-069efe3ffc0f",
   "metadata": {},
   "outputs": [],
   "source": [
    "df_revenues_monthly = df_revenues.copy(deep=True).reset_index()\n",
    "df_revenues_monthly[\"datetime\"] = pd.to_datetime(df_revenues_monthly[\"datetime\"])\n",
    "df_revenues_monthly.set_index(\"datetime\", inplace=True)\n",
    "df_revenues_monthly = df_revenues_monthly.resample(\"MS\").agg({\n",
    "    \"revenue\":[\"sum\", \"size\"]\n",
    "})\n",
    "df_revenues_monthly = (\n",
    "df_revenues_monthly.iloc[1:-1]\n",
    ")\n",
    "df_revenues_monthly = df_revenues_monthly[[(\"revenue\", \"sum\")]]\n",
    "df_revenues_monthly.columns = [\"revenue\"]\n",
    "df_revenues_monthly.head()"
   ]
  },
  {
   "cell_type": "markdown",
   "id": "f585b8c2-c901-45a1-8c3c-dfb119a9ba9f",
   "metadata": {},
   "source": [
    "## 2). 4). Daily 7-day average revenues"
   ]
  },
  {
   "cell_type": "code",
   "execution_count": null,
   "id": "e1bc8f21-120b-468d-8138-7e4013108663",
   "metadata": {},
   "outputs": [],
   "source": [
    "df_revenues_avg = df_revenues.copy(deep=True)\n",
    "df_revenues_avg[\"revenue\"] = (\n",
    "    df_revenues_avg[\"revenue\"].rolling(window=7, min_periods=1).mean()\n",
    ")\n",
    "df_revenues_avg.head()"
   ]
  },
  {
   "cell_type": "code",
   "execution_count": null,
   "id": "adfe37ed-3bcb-4b7e-802e-734c4c63cdb9",
   "metadata": {},
   "outputs": [],
   "source": [
    "dict_granularity = {\n",
    "    \"daily\":df_revenues,\n",
    "    \"rolling_avg\":df_revenues_avg,\n",
    "    \"weekly\":df_revenues_weekly,\n",
    "    \"monthly\":df_revenues_monthly\n",
    "}\n",
    "\n",
    "dict_periods = {\n",
    "    \"daily\":365,\n",
    "    \"rolling_avg\":365,\n",
    "    \"weekly\":52,\n",
    "    \"monthly\":12\n",
    "}"
   ]
  },
  {
   "cell_type": "markdown",
   "id": "0ae738ea-a543-458b-806c-c2ee60881886",
   "metadata": {},
   "source": [
    "# 3). Evolution of the revenue during the year"
   ]
  },
  {
   "cell_type": "markdown",
   "id": "2366a955-cd61-44ca-90b9-6192886af5de",
   "metadata": {},
   "source": [
    "## 3). 1). Levels"
   ]
  },
  {
   "cell_type": "code",
   "execution_count": null,
   "id": "6b13b909-a100-4800-94dd-9d15abe27969",
   "metadata": {},
   "outputs": [],
   "source": [
    "fig, ax = plt.subplots(2,2,figsize=(12,10))\n",
    "for i, granularity in enumerate([\"daily\", \"rolling_avg\", \"weekly\", \"monthly\"]):\n",
    "    sns.lineplot(dict_granularity[granularity][\"revenue\"],\n",
    "                ax=ax[i//2][i%2])"
   ]
  },
  {
   "cell_type": "markdown",
   "id": "cb1b98b8-1739-471b-9677-758a2f39873d",
   "metadata": {},
   "source": [
    "## 3). 2). Decomposition of the revenue"
   ]
  },
  {
   "cell_type": "code",
   "execution_count": null,
   "id": "a32bc926-4a51-4da3-add0-ed29edc28080",
   "metadata": {},
   "outputs": [],
   "source": [
    "df_decomp = (\n",
    "df[df[\"Event type\"]==\"Sales\"].copy(deep=True)\n",
    ").rename(columns={\"Product Price\":\"price\", \"Product quantity\":\"quantity\"})\n",
    "\n",
    "df_decomp[\"revenue\"] = (\n",
    "    df_decomp[\"price\"] * \n",
    "    df_decomp[\"quantity\"]\n",
    ")\n",
    "\n",
    "df_decomp[\"datetime\"] = df_decomp[\"datetime\"].dt.date \n",
    "\n",
    "df_decomp = (\n",
    "    df_decomp[[\n",
    "        \"datetime\", \"Existing client\", \n",
    "        \"Product category\", \n",
    "        \"Environment\", \"Device UX\", \"Device OS\",\n",
    "        \"Browser family\", \"User location\",\n",
    "        \"revenue\"\n",
    "    ]]\n",
    ")\n",
    "\n",
    "dict_decomp = {}\n",
    "\n",
    "for col in [\"User location\", \"Device UX\", \"Device OS\", \"Browser family\", \"Environment\",\n",
    "           \"Product category\", \"Existing client\"]:\n",
    "    dict_decomp[col] = (\n",
    "        df_decomp.pivot_table(\n",
    "            index=\"datetime\",\n",
    "            values=\"revenue\",\n",
    "            columns=col,\n",
    "            aggfunc=\"sum\"\n",
    "        ).add_prefix(f\"decomp_{col}_\")\n",
    "    )\n",
    "\n",
    "    dict_decomp[col].index = (\n",
    "        pd.to_datetime(dict_decomp[col].index)\n",
    "    )\n",
    "\n",
    "    dict_decomp[col] = (\n",
    "        dict_decomp[col].resample(\"MS\").sum()\n",
    "    )\n",
    "\n",
    "# We merge the different ventilations to get contributions\n",
    "df_decomp_all = (\n",
    "reduce(lambda left, right: pd.merge(left,\n",
    "                                   right,\n",
    "                                   left_index=True,\n",
    "                                   right_index=True,\n",
    "                                   how=\"outer\"),\n",
    "      list(dict_decomp.values()))\n",
    ")\n",
    "\n",
    "df_decomp = df_decomp[[\"datetime\", \"revenue\"]].set_index(\"datetime\")\n",
    "df_decomp.index = pd.to_datetime(df_decomp.index)\n",
    "df_decomp = df_decomp.resample(\"MS\").sum()\n",
    "\n",
    "df_decomp_all = (\n",
    "    df_decomp_all.merge(df_decomp,\n",
    "                        left_index=True,\n",
    "                        right_index=True,\n",
    "                        how=\"inner\")\n",
    ")\n",
    "\n",
    "df_decomp_all.head()"
   ]
  },
  {
   "cell_type": "code",
   "execution_count": null,
   "id": "0cd7a445-a96b-4a5a-88c6-593f4ecd075b",
   "metadata": {},
   "outputs": [],
   "source": [
    "plot_contributions(df_decomp_all, \n",
    "                   \"revenue\", \n",
    "                   [col for col in df_decomp_all.columns\n",
    "                   if col.startswith(\"decomp_User location\")])"
   ]
  },
  {
   "cell_type": "code",
   "execution_count": null,
   "id": "970ff26a-4796-4769-8a10-81d0bcbc6f00",
   "metadata": {},
   "outputs": [],
   "source": [
    "plot_contributions(df_decomp_all, \n",
    "                   \"revenue\", \n",
    "                   [col for col in df_decomp_all.columns\n",
    "                   if col.startswith(\"decomp_Device UX\")])"
   ]
  },
  {
   "cell_type": "code",
   "execution_count": null,
   "id": "97701e69-8f6a-49b3-b4ca-21f8404ec82c",
   "metadata": {},
   "outputs": [],
   "source": [
    "plot_contributions(df_decomp_all, \n",
    "                   \"revenue\", \n",
    "                   [col for col in df_decomp_all.columns\n",
    "                   if col.startswith(\"decomp_Device OS\")])"
   ]
  },
  {
   "cell_type": "code",
   "execution_count": null,
   "id": "b95d22f1-658d-4d07-9796-c3fbfcd4c148",
   "metadata": {},
   "outputs": [],
   "source": [
    "plot_contributions(df_decomp_all, \n",
    "                   \"revenue\", \n",
    "                   [col for col in df_decomp_all.columns\n",
    "                   if col.startswith(\"decomp_Browser family\")])"
   ]
  },
  {
   "cell_type": "code",
   "execution_count": null,
   "id": "dde7c86a-b316-45b4-8912-a7bd13a7b88f",
   "metadata": {},
   "outputs": [],
   "source": [
    "plot_contributions(df_decomp_all, \n",
    "                   \"revenue\", \n",
    "                   [col for col in df_decomp_all.columns\n",
    "                   if col.startswith(\"decomp_Environment\")])"
   ]
  },
  {
   "cell_type": "code",
   "execution_count": null,
   "id": "c00684b0-ff79-4ed9-acb1-c406990bd052",
   "metadata": {},
   "outputs": [],
   "source": [
    "plot_contributions(df_decomp_all, \n",
    "                   \"revenue\", \n",
    "                   [col for col in df_decomp_all.columns\n",
    "                   if col.startswith(\"decomp_Product category\")])"
   ]
  },
  {
   "cell_type": "code",
   "execution_count": null,
   "id": "3a021f78-ad10-494b-86b3-dcc1e9ea9693",
   "metadata": {},
   "outputs": [],
   "source": [
    "plot_contributions(df_decomp_all, \n",
    "                   \"revenue\", \n",
    "                   [col for col in df_decomp_all.columns\n",
    "                   if col.startswith(\"decomp_Existing client\")])"
   ]
  },
  {
   "cell_type": "markdown",
   "id": "795f0cf8-dcfd-436c-b2f0-87be0006010e",
   "metadata": {},
   "source": [
    "## 3). 3). Distributions"
   ]
  },
  {
   "cell_type": "code",
   "execution_count": null,
   "id": "2548a460-d232-41c2-bce4-ffe607166d46",
   "metadata": {},
   "outputs": [],
   "source": [
    "fig, ax = plt.subplots(2,2,figsize=(12,10))\n",
    "for i, granularity in enumerate([\"daily\", \"rolling_avg\", \"weekly\", \"monthly\"]):\n",
    "    sns.histplot(dict_granularity[granularity][\"revenue\"],\n",
    "                ax=ax[i//2][i%2])"
   ]
  },
  {
   "cell_type": "markdown",
   "id": "40d9b773-86d1-4894-8384-874c02b08d93",
   "metadata": {},
   "source": [
    "## 3). 4). STL decomposition"
   ]
  },
  {
   "cell_type": "code",
   "execution_count": null,
   "id": "1687b5cb-8411-449c-a739-3857070b3484",
   "metadata": {},
   "outputs": [],
   "source": [
    "stl = STL(dict_granularity[\"daily\"][\"revenue\"].dropna(how=\"any\"),\n",
    "         period=dict_periods[\"daily\"])\n",
    "result=stl.fit()\n",
    "result.plot()\n",
    "plt.tight_layout()"
   ]
  },
  {
   "cell_type": "code",
   "execution_count": null,
   "id": "7be6f87c-c444-4508-8ab1-fa97f03ceef3",
   "metadata": {},
   "outputs": [],
   "source": [
    "stl = STL(dict_granularity[\"rolling_avg\"][\"revenue\"],\n",
    "         period=dict_periods[\"rolling_avg\"])\n",
    "result=stl.fit()\n",
    "result.plot()\n",
    "plt.tight_layout()"
   ]
  },
  {
   "cell_type": "code",
   "execution_count": null,
   "id": "4688b211-94fc-45eb-b47b-9700e6bd8867",
   "metadata": {},
   "outputs": [],
   "source": [
    "stl = STL(dict_granularity[\"weekly\"][\"revenue\"],\n",
    "         period=dict_periods[\"weekly\"])\n",
    "result=stl.fit()\n",
    "result.plot()\n",
    "plt.tight_layout()"
   ]
  },
  {
   "cell_type": "markdown",
   "id": "3a565357-1800-4eac-8643-f9080385ef44",
   "metadata": {},
   "source": [
    "We choose weekly data or rolling average for findings trends and seasonality as its a tradeoff between smoothing week days vs. week ends dynamics and noise and giving more data points than monthly data that has for 1.5 years too few noise"
   ]
  },
  {
   "cell_type": "markdown",
   "id": "ca8d5665-1e65-4fa8-8cad-c530ff2b72a4",
   "metadata": {},
   "source": [
    "## 3). 5). Weekly evolutions"
   ]
  },
  {
   "cell_type": "code",
   "execution_count": null,
   "id": "3210568c-8103-4a2b-bd9d-b89a8e4b2b6e",
   "metadata": {},
   "outputs": [],
   "source": [
    "df_revenues_weekly[\"evolution_revenue_wow\"]  =(\n",
    "    df_revenues_weekly[\"revenue\"].pct_change()\n",
    ")\n",
    "\n",
    "df_revenues_weekly[\"evolution_revenue_mom\"]  =(\n",
    "    df_revenues_weekly[\"revenue\"].pct_change(periods=4)\n",
    ")\n",
    "\n",
    "df_revenues_weekly[\"evolution_revenue_yoy\"]  =(\n",
    "    df_revenues_weekly[\"revenue\"].pct_change(periods=52)\n",
    ")\n",
    "\n",
    "df_revenues_weekly[[\"evolution_revenue_wow\",\n",
    "                   \"evolution_revenue_mom\",\n",
    "                   \"evolution_revenue_yoy\"]].plot()"
   ]
  },
  {
   "cell_type": "code",
   "execution_count": null,
   "id": "4fe3b21c-7201-47d4-a538-593ad48e5228",
   "metadata": {},
   "outputs": [],
   "source": [
    "stl = STL(df_revenues_weekly[\"evolution_revenue_wow\"].dropna(how=\"any\"),\n",
    "         period=dict_periods[\"weekly\"])\n",
    "result=stl.fit()\n",
    "result.plot()\n",
    "plt.tight_layout()"
   ]
  },
  {
   "cell_type": "code",
   "execution_count": null,
   "id": "20aa7fa5-5b73-4627-a5fb-c3dc999d81d4",
   "metadata": {},
   "outputs": [],
   "source": [
    "stl = STL(df_revenues_weekly[\"evolution_revenue_mom\"].dropna(how=\"any\"),\n",
    "         period=dict_periods[\"weekly\"])\n",
    "result=stl.fit()\n",
    "result.plot()\n",
    "plt.tight_layout()"
   ]
  },
  {
   "cell_type": "code",
   "execution_count": null,
   "id": "681f04f4-81ee-4498-9771-f91445c18136",
   "metadata": {},
   "outputs": [],
   "source": [
    "print(f\"Average WoW rate for weekly revenue: {average_rate(df_revenues_weekly[\"evolution_revenue_wow\"].dropna())*100} %\")\n",
    "print(f\"Average MoM rate for weekly revenue: {average_rate(df_revenues_weekly[\"evolution_revenue_mom\"].dropna())*100} %\")"
   ]
  },
  {
   "cell_type": "code",
   "execution_count": null,
   "id": "ed8b4d99-2039-46a2-a808-d64d89027beb",
   "metadata": {},
   "outputs": [],
   "source": [
    "fig, ax = plt.subplots(1,2,figsize=(6,6))\n",
    "\n",
    "sns.histplot(df_revenues_weekly[\"evolution_revenue_wow\"], ax=ax[0])\n",
    "sns.histplot(df_revenues_weekly[\"evolution_revenue_mom\"], ax=ax[1])"
   ]
  },
  {
   "cell_type": "markdown",
   "id": "b0a2ca11-d380-480c-8cd9-7e510738f1b6",
   "metadata": {},
   "source": [
    "## 3). 6). Contributions to the monthly evolutions"
   ]
  },
  {
   "cell_type": "code",
   "execution_count": null,
   "id": "7fe6fa21-1c3d-42e3-bc64-e48603747b73",
   "metadata": {
    "scrolled": true
   },
   "outputs": [],
   "source": [
    "df_contrib = (\n",
    "df[df[\"Event type\"]==\"Sales\"].copy(deep=True)\n",
    ").rename(columns={\"Product Price\":\"price\", \"Product quantity\":\"quantity\"})\n",
    "\n",
    "df_contrib[\"revenue\"] = (\n",
    "    df_contrib[\"price\"] * \n",
    "    df_contrib[\"quantity\"]\n",
    ")\n",
    "\n",
    "df_contrib[\"datetime\"] = df_contrib[\"datetime\"].dt.date\n",
    "\n",
    "df_contrib = (\n",
    "    df_contrib[[\"datetime\", \"revenue\", \"User location\", \"Device UX\", \"Device OS\", \"Browser family\", \n",
    "               \"Environment\", \"Product category\", \"Existing client\"]]\n",
    ")\n",
    "\n",
    "dict_contrib = {}\n",
    "\n",
    "for col in [\"User location\", \"Device UX\", \"Device OS\", \"Browser family\", \"Environment\",\n",
    "           \"Product category\", \"Existing client\"]:\n",
    "    dict_contrib[col] = (\n",
    "        df_contrib.pivot_table(\n",
    "            index=\"datetime\",\n",
    "            values=\"revenue\",\n",
    "            columns=col,\n",
    "            aggfunc=\"sum\"\n",
    "        ).add_prefix(f\"{col}_\")\n",
    "    )\n",
    "\n",
    "    dict_contrib[col].index = (\n",
    "        pd.to_datetime(dict_contrib[col].index)\n",
    "    )\n",
    "\n",
    "\n",
    "    dict_contrib[col] = (\n",
    "        dict_contrib[col].resample(\"MS\").sum()\n",
    "    )\n",
    "\n",
    "# We merge the different ventilations to get contributions\n",
    "df_contrib_all = (\n",
    "reduce(lambda left, right: pd.merge(left,\n",
    "                                   right,\n",
    "                                   left_index=True,\n",
    "                                   right_index=True,\n",
    "                                   how=\"outer\"),\n",
    "      list(dict_contrib.values()))\n",
    ")\n",
    "\n",
    "df_contrib = df_contrib[[\"datetime\", \"revenue\"]].set_index(\"datetime\")\n",
    "df_contrib.index = pd.to_datetime(df_contrib.index)\n",
    "df_contrib = df_contrib.resample(\"MS\").sum()\n",
    "df_contrib = df_contrib.iloc[1:-1]\n",
    "\n",
    "df_contrib_all = (\n",
    "    df_contrib_all.merge(df_contrib,\n",
    "                        left_index=True,\n",
    "                        right_index=True,\n",
    "                        how=\"inner\")\n",
    ")\n",
    "\n",
    "#We compute the contributions\n",
    "for col in [\"User location\", \"Device UX\", \"Device OS\", \"Browser family\", \n",
    "            \"Environment\",\"Product category\", \"Existing client\"]:\n",
    "    for col_ in [_ for _ in df_contrib_all.columns\n",
    "                if _.startswith(col)]:\n",
    "\n",
    "        df_contrib_all[f\"contrib_{col_}\"] = (\n",
    "            # df_contrib_all[col_].shift(1)/df_contrib_all[\"revenue\"].shift(1)\n",
    "            # *df_contrib_all[col_].pct_change()\n",
    "            df_contrib_all[col_].diff(1)/df_contrib_all[\"revenue\"].shift(1)\n",
    "        )\n",
    "\n",
    "df_contrib_all[\"evolution_revenue\"] = (\n",
    "    df_contrib_all[\"revenue\"].pct_change()\n",
    ")\n",
    "\n",
    "df_contrib_all = (\n",
    "    df_contrib_all[[col for col in df_contrib_all.columns\n",
    "                   if col.startswith(\"contrib_\") or col.startswith(\"evolution_\")]]\n",
    ")\n",
    "\n",
    "df_contrib_all.head()"
   ]
  },
  {
   "cell_type": "code",
   "execution_count": null,
   "id": "7996e1e2-fa79-4bb4-a87a-179ab024b3a2",
   "metadata": {},
   "outputs": [],
   "source": [
    "plot_contributions(df_contrib_all, \n",
    "                   \"evolution_revenue\", \n",
    "                   [col for col in df_contrib_all.columns\n",
    "                   if col.startswith(\"contrib_User location\")])"
   ]
  },
  {
   "cell_type": "code",
   "execution_count": null,
   "id": "8dd35b9d-f293-4927-82ee-960d09183032",
   "metadata": {},
   "outputs": [],
   "source": [
    "plot_contributions(df_contrib_all, \n",
    "                   \"evolution_revenue\", \n",
    "                   [col for col in df_contrib_all.columns\n",
    "                   if col.startswith(\"contrib_Device UX\")])"
   ]
  },
  {
   "cell_type": "code",
   "execution_count": null,
   "id": "db85e9ce-9522-4720-b8fa-afe8ab82cd26",
   "metadata": {},
   "outputs": [],
   "source": [
    "plot_contributions(df_contrib_all, \n",
    "                   \"evolution_revenue\", \n",
    "                   [col for col in df_contrib_all.columns\n",
    "                   if col.startswith(\"contrib_Device OS\")])"
   ]
  },
  {
   "cell_type": "code",
   "execution_count": null,
   "id": "e8f1e4a1-5f24-4f14-acc6-73a856d7db86",
   "metadata": {},
   "outputs": [],
   "source": [
    "plot_contributions(df_contrib_all, \n",
    "                   \"evolution_revenue\", \n",
    "                   [col for col in df_contrib_all.columns\n",
    "                   if col.startswith(\"contrib_Browser family\")])"
   ]
  },
  {
   "cell_type": "code",
   "execution_count": null,
   "id": "fdec6b5f-3620-462e-a773-e2bd9149bc04",
   "metadata": {},
   "outputs": [],
   "source": [
    "plot_contributions(df_contrib_all, \n",
    "                   \"evolution_revenue\", \n",
    "                   [col for col in df_contrib_all.columns\n",
    "                   if col.startswith(\"contrib_Environment\")])"
   ]
  },
  {
   "cell_type": "code",
   "execution_count": null,
   "id": "e8a2ddac-4e4b-4064-b11d-3ce142618c23",
   "metadata": {},
   "outputs": [],
   "source": [
    "plot_contributions(df_contrib_all, \n",
    "                   \"evolution_revenue\", \n",
    "                   [col for col in df_contrib_all.columns\n",
    "                   if col.startswith(\"contrib_Product category\")])"
   ]
  },
  {
   "cell_type": "code",
   "execution_count": null,
   "id": "c926307d-d69b-4d5e-8cfc-7ad62535c9dd",
   "metadata": {},
   "outputs": [],
   "source": [
    "plot_contributions(df_contrib_all, \n",
    "                   \"evolution_revenue\", \n",
    "                   [col for col in df_contrib_all.columns\n",
    "                   if col.startswith(\"contrib_Existing client\")])"
   ]
  },
  {
   "cell_type": "markdown",
   "id": "55aae234-fe14-494d-99e8-fb57300e7415",
   "metadata": {},
   "source": [
    "## 3). 7). Volume/Price decompositions"
   ]
  },
  {
   "cell_type": "code",
   "execution_count": null,
   "id": "0984d595-a45a-474c-bde8-79780523a89f",
   "metadata": {},
   "outputs": [],
   "source": [
    "df_pv = (\n",
    "df[df[\"Event type\"]==\"Sales\"].copy(deep=True)\n",
    ").rename(columns={\"Product Price\":\"price\", \"Product quantity\":\"quantity\",\n",
    "                 \"Product ID\":\"product_id\"})\n",
    "\n",
    "df_pv = df_pv[[\"datetime\", \"price\", \"quantity\", \"product_id\"]]\n",
    "df_pv[\"revenue\"] = df_pv[\"price\"]*df_pv[\"quantity\"]\n",
    "print(float(df_pv[df_pv[\"product_id\"]==\"Unknown\"][\"revenue\"].sum()/df_pv[\"revenue\"].sum()))\n",
    "\n",
    "df_pv[\"datetime\"] = df_pv[\"datetime\"].dt.date\n",
    "df_pv[\"datetime\"] = pd.to_datetime(df_pv[\"datetime\"]).dt.to_period(\"M\")\n",
    "\n",
    "df_pv = df_pv[df_pv[\"product_id\"] != \"Unknown\"]\n",
    "list_products = df_pv[\"product_id\"].unique()\n",
    "\n",
    "df_pv = df_pv.groupby([\"datetime\", \"product_id\"],\n",
    "                     as_index=False).agg({\"price\":\"mean\", \"quantity\":\"sum\"})\n",
    "\n",
    "df_price = (\n",
    "df_pv.pivot_table(index=\"datetime\",\n",
    "                 columns=\"product_id\",\n",
    "                 values=\"price\",\n",
    "                 aggfunc=\"mean\").add_prefix(\"price_\").fillna(0)\n",
    ")\n",
    "\n",
    "df_quantity = (\n",
    "df_pv.pivot_table(index=\"datetime\",\n",
    "                 columns=\"product_id\",\n",
    "                 values=\"quantity\",\n",
    "                 aggfunc=\"mean\").add_prefix(\"quantity_\").fillna(0)\n",
    ")\n",
    "\n",
    "df_pv=pd.merge(df_price, df_quantity,\n",
    "              left_index=True, right_index=True,\n",
    "              how=\"outer\").iloc[1:-1]\n",
    "\n",
    "df_pv"
   ]
  },
  {
   "cell_type": "code",
   "execution_count": null,
   "id": "3115a331-c434-45e1-9e10-a6c51ef6fe8a",
   "metadata": {},
   "outputs": [],
   "source": [
    "price_volume_effects(df_pv, list_products)"
   ]
  },
  {
   "cell_type": "markdown",
   "id": "cb126ee5-1285-48aa-b9e8-8df466def5ee",
   "metadata": {},
   "source": [
    "## 3). 8). Conversion Rate"
   ]
  },
  {
   "cell_type": "code",
   "execution_count": null,
   "id": "f06048fe-dde8-4978-86b0-7f17a13a507f",
   "metadata": {},
   "outputs": [],
   "source": []
  },
  {
   "cell_type": "markdown",
   "id": "df76aa6c-a5a0-44ee-83e2-1093a9b704bf",
   "metadata": {},
   "source": [
    "## 3). 9). Attrition Rate"
   ]
  },
  {
   "cell_type": "code",
   "execution_count": null,
   "id": "f467e286-d0b7-485c-92dc-ce522b99ea2c",
   "metadata": {},
   "outputs": [],
   "source": []
  },
  {
   "cell_type": "markdown",
   "id": "6a0052ac-5377-4439-9236-3a48544ac9a7",
   "metadata": {},
   "source": [
    "## 3). 10). Forecast"
   ]
  },
  {
   "cell_type": "code",
   "execution_count": null,
   "id": "0f6a2751-d94d-4b41-949c-a8a6beefd876",
   "metadata": {},
   "outputs": [],
   "source": []
  },
  {
   "cell_type": "markdown",
   "id": "70867b95-91a1-442d-b042-c22983114b83",
   "metadata": {},
   "source": [
    "# 4). Detection of outlier days"
   ]
  },
  {
   "cell_type": "code",
   "execution_count": null,
   "id": "4011d961-c711-4923-918d-d38b0a6078bb",
   "metadata": {
    "scrolled": true
   },
   "outputs": [],
   "source": [
    "# Detection of outliers with zscores -> large skew we cannot use this technique\n",
    "df_revenues[\"outlier_z_score\"] = (\n",
    "    np.abs((df_revenues[\"revenue\"]-df_revenues[\"revenue\"].mean())/\n",
    "           df_revenues[\"revenue\"].std()) > 3\n",
    ")\n",
    "\n",
    "# Detection of outliers with IQR\n",
    "q1=df_revenues[\"revenue\"].quantile(.25)\n",
    "q3=df_revenues[\"revenue\"].quantile(.75)\n",
    "df_revenues[\"outlier_iqr\"] = (\n",
    "    (df_revenues[\"revenue\"] < q1-1.5*(q3-q1))|(df_revenues[\"revenue\"] > q3+1.5*(q3-q1))\n",
    ")\n",
    "\n",
    "# Detection of outliers with STL decomposition\n",
    "df_revenues[\"stl_residuals\"] = (\n",
    "    STL(df_revenues[\"revenue\"].dropna(how=\"any\"),period=365).fit().resid\n",
    ")\n",
    "df_revenues[\"outlier_stl_residuals_z_score\"] = (\n",
    "    np.abs((df_revenues[\"stl_residuals\"]-df_revenues[\"stl_residuals\"].mean())/df_revenues[\"stl_residuals\"].std()) > 3\n",
    ")\n",
    "\n",
    "df_revenues"
   ]
  },
  {
   "cell_type": "code",
   "execution_count": null,
   "id": "4cbda677-0fb9-455b-a391-180f7f3a1e63",
   "metadata": {},
   "outputs": [],
   "source": [
    "fig, axes = plt.subplots(2,2,figsize=(16,10))\n",
    "axes = axes.flatten()\n",
    "\n",
    "for i, outlier in enumerate([\"outlier_z_score\",\n",
    "                            \"outlier_iqr\",\n",
    "                            \"outlier_stl_residuals_z_score\"]):\n",
    "\n",
    "    sns.lineplot(df_revenues, x=df_revenues.index, y=\"revenue\",ax=axes[i],\n",
    "                label=outlier)\n",
    "    sns.scatterplot(\n",
    "        data=df_revenues[df_revenues[outlier]],\n",
    "        x=df_revenues[df_revenues[outlier]].index,\n",
    "        y=\"revenue\",\n",
    "        color=\"red\",\n",
    "        ax=axes[i]\n",
    "    )"
   ]
  }
 ],
 "metadata": {
  "kernelspec": {
   "display_name": "Python 3 (ipykernel)",
   "language": "python",
   "name": "python3"
  },
  "language_info": {
   "codemirror_mode": {
    "name": "ipython",
    "version": 3
   },
   "file_extension": ".py",
   "mimetype": "text/x-python",
   "name": "python",
   "nbconvert_exporter": "python",
   "pygments_lexer": "ipython3",
   "version": "3.12.11"
  }
 },
 "nbformat": 4,
 "nbformat_minor": 5
}
